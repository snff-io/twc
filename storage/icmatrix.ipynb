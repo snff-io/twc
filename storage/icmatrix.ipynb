{
 "cells": [
  {
   "cell_type": "code",
   "execution_count": 20,
   "metadata": {},
   "outputs": [
    {
     "name": "stderr",
     "output_type": "stream",
     "text": [
      "/tmp/ipykernel_15275/544351551.py:9: FutureWarning: Passing a negative integer is deprecated in version 1.0 and will not be supported in future version. Instead, use None to not limit the column width.\n",
      "  pd.set_option('display.max_colwidth', -1)\n"
     ]
    }
   ],
   "source": [
    "import yaml\n",
    "import pandas as pd\n",
    "import numpy as np\n",
    "from colour import hex2hsl \n",
    "\n",
    "pd.set_option('display.max_rows', None)  # Print all rows\n",
    "pd.set_option('display.max_columns', None)  # Print all columns\n",
    "pd.set_option('display.width', None)  # Allow wide display\n",
    "pd.set_option('display.max_colwidth', -1) \n",
    "\n",
    "with open('/home/zampinojosh/src/hub/twc-flask/storage/db_iching_data.yaml', 'r') as file:\n",
    "    data = yaml.safe_load(file)\n"
   ]
  },
  {
   "cell_type": "code",
   "execution_count": 21,
   "metadata": {},
   "outputs": [],
   "source": [
    "for hexagram in data[\"hexagrams\"]:\n",
    "        hexagram[\"decimal\"] = int(hexagram[\"binary\"], 2)\n",
    "        #print(hexagram[\"decimal\"] )\n",
    "\n",
    "for trigram in data[\"trigrams\"]:\n",
    "        trigram[\"decimal\"] = int(trigram[\"binary\"],2)\n",
    "        #print(trigram[\"decimal\"])\n",
    "\n"
   ]
  },
  {
   "cell_type": "code",
   "execution_count": 23,
   "metadata": {},
   "outputs": [
    {
     "name": "stdout",
     "output_type": "stream",
     "text": [
      "{0: 0.0, 1: 0.0, 2: 0.33333333333333337, 3: 0.6666666666666666, 4: 0.16666666666666663, 5: 0.5, 6: 0.8333333333333334, 7: 0.0}\n",
      "[[0. 0. 0. 0. 0. 0. 0. 0.]\n",
      " [1. 1. 1. 1. 1. 1. 1. 1.]\n",
      " [2. 2. 2. 2. 2. 2. 2. 2.]\n",
      " [3. 3. 3. 3. 3. 3. 3. 3.]\n",
      " [4. 4. 4. 4. 4. 4. 4. 4.]\n",
      " [5. 5. 5. 5. 5. 5. 5. 5.]\n",
      " [6. 6. 6. 6. 6. 6. 6. 6.]\n",
      " [7. 7. 7. 7. 7. 7. 7. 7.]]\n",
      "[[0 1 2 3 4 5 6 7]\n",
      " [0 1 2 3 4 5 6 7]\n",
      " [0 1 2 3 4 5 6 7]\n",
      " [0 1 2 3 4 5 6 7]\n",
      " [0 1 2 3 4 5 6 7]\n",
      " [0 1 2 3 4 5 6 7]\n",
      " [0 1 2 3 4 5 6 7]\n",
      " [0 1 2 3 4 5 6 7]]\n"
     ]
    }
   ],
   "source": [
    "# Create a matrix where each row contains the row number\n",
    "lower = np.arange(0, 8).reshape(8, 1) * np.ones((1, 8))\n",
    "\n",
    "# Create a matrix where each row contains the numbers 1 to 8\n",
    "upper = np.tile(np.arange(0, 8), (8, 1))\n",
    "\n",
    "        \n",
    "\n",
    "\n",
    "colors_hex = {\n",
    "    0: \"#FFFFFF\",  # White\n",
    "    1: \"#FF0000\",  # Red\n",
    "    2: \"#00FF00\",  # Green\n",
    "    3: \"#0000FF\",  # Blue\n",
    "    4: \"#FFFF00\",  # Yellow\n",
    "    5: \"#00FFFF\",  # Cyan\n",
    "    6: \"#FF00FF\",  # Magenta\n",
    "    7: \"#000000\"   # Black\n",
    "}\n",
    "\n",
    "\n",
    "\n",
    "print(lower)\n",
    "print(upper)\n"
   ]
  }
 ],
 "metadata": {
  "kernelspec": {
   "display_name": "twc",
   "language": "python",
   "name": "python3"
  },
  "language_info": {
   "codemirror_mode": {
    "name": "ipython",
    "version": 3
   },
   "file_extension": ".py",
   "mimetype": "text/x-python",
   "name": "python",
   "nbconvert_exporter": "python",
   "pygments_lexer": "ipython3",
   "version": "3.11.2"
  }
 },
 "nbformat": 4,
 "nbformat_minor": 2
}
